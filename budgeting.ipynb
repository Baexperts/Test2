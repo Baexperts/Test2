{
  "nbformat": 4,
  "nbformat_minor": 0,
  "metadata": {
    "colab": {
      "provenance": [],
      "authorship_tag": "ABX9TyN+YGr2QgicPMC/eAsQLidv",
      "include_colab_link": true
    },
    "kernelspec": {
      "name": "python3",
      "display_name": "Python 3"
    },
    "language_info": {
      "name": "python"
    }
  },
  "cells": [
    {
      "cell_type": "markdown",
      "metadata": {
        "id": "view-in-github",
        "colab_type": "text"
      },
      "source": [
        "<a href=\"https://colab.research.google.com/github/Baexperts/Test2/blob/main/budgeting.ipynb\" target=\"_parent\"><img src=\"https://colab.research.google.com/assets/colab-badge.svg\" alt=\"Open In Colab\"/></a>"
      ]
    },
    {
      "cell_type": "code",
      "execution_count": null,
      "metadata": {
        "colab": {
          "base_uri": "https://localhost:8080/"
        },
        "collapsed": true,
        "id": "UfWnCkiEABqd",
        "outputId": "2f5429f3-71a4-4c37-83ed-dc4b9b6774c4"
      },
      "outputs": [
        {
          "output_type": "stream",
          "name": "stdout",
          "text": [
            "year: 1403 11.7 32.6 20.900000000000002\n",
            "year: 1404 12.70412098293169 13.568357865267421 0.8642368823357316\n",
            "year: 1405 14.053370245913895 15.415446401290477 1.3620761553765828\n",
            "year: 1406 15.543157340323239 17.33783141904781 1.7946740787245705\n",
            "year: 1407 17.01918034365163 19.222443243287973 2.203262899636343\n",
            "year: 1408 18.31412060505112 21.581618149681237 3.2674975446301175\n",
            "year: 1409 21.4 24.0 2.6000000000000014\n"
          ]
        },
        {
          "output_type": "execute_result",
          "data": {
            "text/plain": [
              "6"
            ]
          },
          "metadata": {},
          "execution_count": 160
        }
      ],
      "source": [
        "# @title Default title text\n",
        "import random\n",
        "cost_of_rent=[]\n",
        "cost_Of_marketing=[]\n",
        "cost_Of_international_offices=[]\n",
        "cost_of_aftersales_Other=[]\n",
        "cost_of_hr=[]\n",
        "profit_of_bonds=[]\n",
        "profit_of_others=[]\n",
        "bonds_share=[]\n",
        "nima_share=[]\n",
        "total_cost=[]\n",
        "total_gross_profit=[]\n",
        "certainty=0.7\n",
        "years=6\n",
        "def years_number(values,years):\n",
        "  for y in range (0,years+1):\n",
        "    values.append(0)\n",
        "  return(values)\n",
        "\n",
        "def costs_calculation(values,years):\n",
        "  values=years_number(values,years)\n",
        "  for i in range(years+1):\n",
        "    values[i]=cost_Of_international_offices[i]+cost_Of_marketing[i]+cost_of_aftersales_Other[i]+cost_of_hr[i]+cost_of_rent[i]\n",
        "  return(values)\n",
        "def profits_calculation(values,years):\n",
        "  values=years_number(values,years)\n",
        "  for j in range(years+1):\n",
        "\n",
        "    values[j]=bonds_share[j]*profit_of_bonds[j]+nima_share[j]*profit_of_others[j]\n",
        "  return(values)\n",
        "def outputs(years):\n",
        "  for z in range(years+1):\n",
        "    x=z+1403\n",
        "    print(\"year:\",x,total_cost[z], total_gross_profit[z],total_gross_profit[z]-total_cost[z])\n",
        "\n",
        "  return(z)\n",
        "def generete_values(values,trend,mini,maxi,years):\n",
        "  values=years_number(values,years)\n",
        "\n",
        "  for k in range(1,years):\n",
        "    if trend==1:\n",
        "      values[0]=mini\n",
        "      values[years]=maxi\n",
        "      rate=(maxi-mini)/years\n",
        "      values[k]=values[k-1]+rate*certainty+rate*(1-certainty)*random.random()\n",
        "\n",
        "    if trend==-1:\n",
        "      values[years]=mini\n",
        "      values[0]=maxi\n",
        "      rate=(maxi-mini)/years\n",
        "      values[years-k]=values[years+1-k]-rate*certainty-rate*(1-certainty)*random.random()\n",
        "\n",
        "    if trend==0:\n",
        "      values[years]=(mini+maxi)/2 +random.uniform(mini/2,maxi/2)\n",
        "      values[0]=(mini+maxi)/2+random.uniform(mini/2,maxi/2)\n",
        "      rate=(maxi-mini)/years\n",
        "      values[years-k]=random.uniform(mini,maxi)\n",
        "\n",
        "  return(values)\n",
        "\n",
        "cost_of_rent=generete_values(cost_of_rent,-1,0.4,0.6,years)\n",
        "cost_Of_marketing=generete_values(cost_Of_marketing,1,2.5,5,years)\n",
        "cost_Of_international_offices=generete_values(cost_Of_international_offices,1,3,8,years)\n",
        "cost_of_aftersales_Other=generete_values(cost_of_aftersales_Other,1,0.6,1,years)\n",
        "cost_of_hr=generete_values(cost_of_hr,1,5,7,years)\n",
        "profit_of_bonds=generete_values(profit_of_bonds,-1,-0.12,-0.08,years)\n",
        "profit_of_others=generete_values(profit_of_others,1,.10,.12,years)\n",
        "bonds_share=generete_values(bonds_share,1,30,50,years)\n",
        "nima_share=generete_values(nima_share,-1,250,350,years)\n",
        "total_cost=costs_calculation(total_cost,years)\n",
        "total_gross_profit=profits_calculation(total_gross_profit,years)\n",
        "\n",
        "outputs(years)\n",
        "\n"
      ]
    },
    {
      "cell_type": "code",
      "source": [],
      "metadata": {
        "id": "g4N79LLPwgvJ"
      },
      "execution_count": null,
      "outputs": []
    },
    {
      "cell_type": "code",
      "source": [
        "\n"
      ],
      "metadata": {
        "colab": {
          "base_uri": "https://localhost:8080/"
        },
        "id": "qBuIDrC-tWEb",
        "outputId": "0f8fcd08-c76b-440c-fbf7-1a5cac5d4428"
      },
      "execution_count": null,
      "outputs": [
        {
          "output_type": "stream",
          "name": "stdout",
          "text": [
            "28.065717810095713\n",
            "12.728384497689056\n",
            "58.76821277488523\n",
            "25.261159175928427\n",
            "36.041934710389285\n",
            "32.642510710365364\n",
            "66.19414631443611\n",
            "-4.253061848385154\n",
            "63.08649084040786\n",
            "20.339493136186263\n",
            "52.74400284377149\n",
            "1.8874901035690712\n",
            "34.18369250802371\n",
            "25.829453114438813\n",
            "-1.9634542369564496\n",
            "17.316475925617876\n",
            "-9.487956108808588\n",
            "26.689318454922685\n",
            "68.43774525076796\n",
            "9.60865342765479\n",
            "62.36998221342529\n",
            "30.313624632272315\n",
            "17.643518902324686\n",
            "49.57408428721312\n",
            "33.90399158275375\n",
            "-3.4034734064256247\n",
            "22.565867685401642\n",
            "45.19362944782298\n",
            "25.719250948882546\n",
            "45.70658624398609\n",
            "37.76084771968253\n",
            "23.097921768321534\n",
            "59.59729643419955\n",
            "27.766970964956194\n",
            "-10.472402363494867\n",
            "28.044634413778198\n",
            "18.191417843583476\n",
            "12.694748130873801\n",
            "64.18076633141362\n",
            "65.30821081814166\n",
            "46.896308678951094\n",
            "71.86493797994291\n",
            "16.212214903934395\n",
            "48.4700658611123\n",
            "75.4977187080213\n",
            "50.07424580809969\n",
            "46.529799801974406\n",
            "3.8306513335496852\n",
            "-5.639370354981928\n",
            "60.382802968492285\n"
          ]
        }
      ]
    },
    {
      "cell_type": "code",
      "source": [
        "my_list=[cost_of_rent,cost_Of_marketing,cost_Of_international_offices,cost_of_aftersales_Other,cost_of_hr,profit_of_bonds,profit_of_others,bonds_share,nima_share,total_cost,total_gross_profit]\n",
        "\n",
        "for i in my_list:\n",
        "  print(i)\n"
      ],
      "metadata": {
        "id": "OZ0ns8Hria8G"
      },
      "execution_count": null,
      "outputs": []
    },
    {
      "cell_type": "code",
      "source": [
        "variable = \"\" # @param {\"type\":\"string\",\"placeholder\":\"form\"}\n",
        "def input_take():\n",
        "  p=0\n",
        "  for i in my_list:\n",
        "    print(i)\n",
        "    z=generete_values(i,1,2,3,6)\n",
        "    print(z)\n",
        "    my_list[p]=z\n",
        "    p+=1\n",
        "  return(my_list)\n",
        "input_take()\n"
      ],
      "metadata": {
        "id": "Hz_fZPtGkMoa"
      },
      "execution_count": null,
      "outputs": []
    }
  ]
}